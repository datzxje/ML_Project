{
 "cells": [
  {
   "cell_type": "code",
   "execution_count": 85,
   "metadata": {},
   "outputs": [],
   "source": [
    "import pandas as pd\n",
    "import numpy as np\n",
    "import glob\n",
    "from sklearn.model_selection import train_test_split, GridSearchCV\n",
    "from sklearn.preprocessing import StandardScaler\n",
    "from sklearn.neighbors import KNeighborsRegressor\n",
    "from sklearn.metrics import r2_score, mean_squared_error\n",
    "\n",
    "# Đọc và hợp nhất các tệp CSV\n",
    "files = glob.glob(\"D:\\\\code\\\\proj_ml\\\\ML_Project\\\\data\\\\saved\\\\*.csv\")\n",
    "data_list = []\n",
    "\n",
    "for file in files:\n",
    "    df = pd.read_csv(file, parse_dates=['Date'])\n",
    "    data_list.append(df)\n",
    "\n",
    "# Hợp nhất các DataFrame thành một DataFrame lớn\n",
    "data = pd.concat(data_list, ignore_index=True)\n",
    "\n",
    "# Đặt 'Date' làm chỉ mục\n",
    "data.set_index('Date', inplace=True)\n",
    "\n",
    "# Sắp xếp dữ liệu theo ngày để đảm bảo thứ tự đúng\n",
    "data.sort_index(inplace=True)\n",
    "\n",
    "# Dịch chuyển biến mục tiêu (giá vàng đóng cửa) 1 ngày để dự đoán giá đóng cửa ngày hôm sau\n",
    "data['next_day_gold_close'] = data['gold_close'].shift(-1)\n",
    "\n",
    "# Loại bỏ hàng cuối cùng vì không có giá trị mục tiêu\n",
    "data.drop(data.tail(1).index, inplace=True)"
   ]
  },
  {
   "cell_type": "code",
   "execution_count": 86,
   "metadata": {},
   "outputs": [
    {
     "data": {
      "text/plain": [
       "copper                 float64\n",
       "crude_oil              float64\n",
       "DXY                    float64\n",
       "EURUSD                 float64\n",
       "gold_open              float64\n",
       "gold_high              float64\n",
       "gold_low               float64\n",
       "gold_close             float64\n",
       "MSCI                   float64\n",
       "NASDAQ                 float64\n",
       "NLR                    float64\n",
       "platinum               float64\n",
       "RUT                    float64\n",
       "silver                 float64\n",
       "SP500                  float64\n",
       "VIX                    float64\n",
       "next_day_gold_close    float64\n",
       "dtype: object"
      ]
     },
     "execution_count": 86,
     "metadata": {},
     "output_type": "execute_result"
    }
   ],
   "source": [
    "data.dtypes"
   ]
  },
  {
   "cell_type": "code",
   "execution_count": 88,
   "metadata": {},
   "outputs": [
    {
     "name": "stdout",
     "output_type": "stream",
     "text": [
      "Best number of neighbors: 1\n"
     ]
    }
   ],
   "source": [
    "# Xử lý các giá trị NaN\n",
    "data = data.dropna()\n",
    "\n",
    "# Chọn các đặc trưng và biến mục tiêu\n",
    "features = ['copper', 'crude_oil', 'DXY', 'EURUSD', 'MSCI', 'NASDAQ', 'NLR', 'platinum', 'RUT', 'silver', 'SP500', 'VIX']\n",
    "target = 'next_day_gold_close'\n",
    "\n",
    "X = data[features]\n",
    "y = data[target]\n",
    "\n",
    "# Chia dữ liệu thành tập huấn luyện và kiểm tra\n",
    "X_train, X_test, y_train, y_test = train_test_split(X, y, test_size=0.2, random_state=42)\n",
    "\n",
    "# Chuẩn hóa các đặc trưng\n",
    "scaler = StandardScaler()\n",
    "X_train_scaled = scaler.fit_transform(X_train)\n",
    "X_test_scaled = scaler.transform(X_test)\n",
    "\n",
    "# Sử dụng GridSearchCV để tìm tham số tốt nhất cho mô hình KNN\n",
    "param_grid = {'n_neighbors': np.arange(1, 30)}\n",
    "grid_search = GridSearchCV(KNeighborsRegressor(), param_grid, cv=5, scoring='r2')\n",
    "grid_search.fit(X_train_scaled, y_train)\n",
    "\n",
    "# Lấy tham số tốt nhất\n",
    "best_n_neighbors = grid_search.best_params_['n_neighbors']\n",
    "print(f\"Best number of neighbors: {best_n_neighbors}\")\n",
    "\n",
    "# Tạo và huấn luyện mô hình KNN với tham số tốt nhất\n",
    "knn = KNeighborsRegressor(n_neighbors=best_n_neighbors)\n",
    "knn.fit(X_train_scaled, y_train)\n",
    "\n",
    "# Dự đoán\n",
    "y_pred = knn.predict(X_test_scaled)\n"
   ]
  },
  {
   "cell_type": "code",
   "execution_count": 93,
   "metadata": {},
   "outputs": [
    {
     "name": "stdout",
     "output_type": "stream",
     "text": [
      "Mean Absolute Percentage Error (MAPE): 0.0189\n",
      "Root Mean Squared Error (RMSE): 40.2728\n",
      "R2 Score: 0.9840\n"
     ]
    }
   ],
   "source": [
    "# Chuyển y_test thành mảng NumPy\n",
    "y_test_array = y_test.values\n",
    "\n",
    "# Tính toán các chỉ số đánh giá\n",
    "mape = np.mean(np.abs((y_test_array - y_pred) / y_test_array))\n",
    "rmse = np.sqrt(mean_squared_error(y_test_array, y_pred))\n",
    "r2 = r2_score(y_test_array, y_pred)\n",
    "\n",
    "# In kết quả\n",
    "print(f\"Mean Absolute Percentage Error (MAPE): {mape:.4f}\")\n",
    "print(f\"Root Mean Squared Error (RMSE): {rmse:.4f}\")\n",
    "print(f\"R2 Score: {r2:.4f}\")"
   ]
  }
 ],
 "metadata": {
  "kernelspec": {
   "display_name": "Python 3",
   "language": "python",
   "name": "python3"
  },
  "language_info": {
   "codemirror_mode": {
    "name": "ipython",
    "version": 3
   },
   "file_extension": ".py",
   "mimetype": "text/x-python",
   "name": "python",
   "nbconvert_exporter": "python",
   "pygments_lexer": "ipython3",
   "version": "3.10.0"
  }
 },
 "nbformat": 4,
 "nbformat_minor": 2
}
