{
 "cells": [
  {
   "cell_type": "code",
   "execution_count": 25,
   "id": "644a0621-68f3-4d9e-8cd4-8cff9bd40115",
   "metadata": {},
   "outputs": [],
   "source": [
    "import pandas as pd\n",
    "import os\n",
    "import glob\n",
    "import re"
   ]
  },
  {
   "cell_type": "code",
   "execution_count": 28,
   "id": "5c05dac4-47cc-49b3-b415-7d6214ba112b",
   "metadata": {},
   "outputs": [
    {
     "ename": "SyntaxError",
     "evalue": "(unicode error) 'unicodeescape' codec can't decode bytes in position 2-3: truncated \\UXXXXXXXX escape (3983770580.py, line 1)",
     "output_type": "error",
     "traceback": [
      "\u001b[1;36m  Cell \u001b[1;32mIn[28], line 1\u001b[1;36m\u001b[0m\n\u001b[1;33m    path = \"C:\\Users\\ADMIN\\Desktop\\dinhtrikhoa\\ml\\ML_Project\\data\"\u001b[0m\n\u001b[1;37m                                                                  ^\u001b[0m\n\u001b[1;31mSyntaxError\u001b[0m\u001b[1;31m:\u001b[0m (unicode error) 'unicodeescape' codec can't decode bytes in position 2-3: truncated \\UXXXXXXXX escape\n"
     ]
    }
   ],
   "source": [
    "path = \"C:\\Users\\ADMIN\\Desktop\\dinhtrikhoa\\ml\\ML_Project\\data\"\n",
    "files = glob.glob(path + \"/*.csv\") "
   ]
  },
  {
   "cell_type": "code",
   "execution_count": 27,
   "id": "ed211371-a6e7-4dc2-a0f0-0f48bfec9751",
   "metadata": {},
   "outputs": [],
   "source": [
    "def preprocess(file_path, df):\n",
    "    df['Date'] = pd.to_datetime(df['Date'])\n",
    "    \n",
    "    for col in df.columns:\n",
    "        if col != 'Date' and df[col].dtypes == 'object':\n",
    "            df[col] = df[col].str.replace(',', '').astype(float)\n",
    "    \n",
    "    match = re.search(r'([^\\\\/:*?\"<>|\\r\\n]+)(?=\\.\\w+$)', file_path)\n",
    "    if match:\n",
    "        filename = match.group(0)\n",
    "    if \"gold\" not in file_path: \n",
    "        df = df.drop(['Open', 'High', 'Low'], axis = 1) \n",
    "        df = df.rename(columns={'Close': filename})\n",
    "    elif \"gold\" in file_path: \n",
    "        df = df.rename(columns={'Close': filename + \"_close\",\n",
    "                                'Open': filename + \"_open\", \n",
    "                                'High': filename + \"_high\",\n",
    "                                'Low': filename + \"_low\"})\n",
    "    return df"
   ]
  },
  {
   "cell_type": "code",
   "execution_count": 20,
   "id": "67837530-d296-4836-93cb-99d22f339ff8",
   "metadata": {},
   "outputs": [],
   "source": [
    "for file in files:\n",
    "    print()\n",
    "    print(\"*\"*15, \"FILE\", \"*\"*15)\n",
    "    print(file)\n",
    "    df = pd.read_csv(file)\n",
    "    df = preprocess(file, df)\n",
    "    print(df.head())\n",
    "    print(\"*\"*15, \"CHECK DATATYPES\", \"*\"*15)\n",
    "    df.info()\n",
    "    print(\"*\"*15, \"CHECK NULL VALUES\", \"*\"*15)\n",
    "    null_df = df.isnull().sum()\n",
    "    print(null_df)\n",
    "    \n",
    "    match = re.search(r'([^\\\\/:*?\"<>|\\r\\n]+)(?=\\.\\w+$)', file)\n",
    "    if match:\n",
    "        filename = match.group(0)\n",
    "        \n",
    "    df.to_csv(f\"D:\\code\\proj_ml\\ML_Project\\data\\saved\\\\{filename}.csv\", index = False)\n",
    "    "
   ]
  },
  {
   "cell_type": "code",
   "execution_count": null,
   "id": "c85087e9-644e-402c-90f9-35a98ba284d7",
   "metadata": {},
   "outputs": [],
   "source": []
  }
 ],
 "metadata": {
  "kernelspec": {
   "display_name": "Python 3 (ipykernel)",
   "language": "python",
   "name": "python3"
  },
  "language_info": {
   "codemirror_mode": {
    "name": "ipython",
    "version": 3
   },
   "file_extension": ".py",
   "mimetype": "text/x-python",
   "name": "python",
   "nbconvert_exporter": "python",
   "pygments_lexer": "ipython3",
   "version": "3.10.0"
  }
 },
 "nbformat": 4,
 "nbformat_minor": 5
}
